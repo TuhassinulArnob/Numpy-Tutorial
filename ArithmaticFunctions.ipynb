{
 "cells": [
  {
   "cell_type": "markdown",
   "metadata": {},
   "source": [
    "# Arithmatic Functions"
   ]
  },
  {
   "cell_type": "code",
   "execution_count": 12,
   "metadata": {},
   "outputs": [
    {
     "name": "stdout",
     "output_type": "stream",
     "text": [
      "[2 3 1 4 5 6 2]\n",
      "Min value is:  1 2\n",
      "Max value is:  6 5\n",
      "Sqrt:  [1.41421356 1.73205081 1.         2.         2.23606798 2.44948974\n",
      " 1.41421356]\n"
     ]
    }
   ],
   "source": [
    "import numpy as np\n",
    "var = np.array([2,3,1,4,5,6,2])\n",
    "print(var)\n",
    "print(\"Min value is: \", np.min(var), np.argmin(var))  # Minimum Value in the array\n",
    "print(\"Max value is: \", np.max(var), np.argmax(var))  # Maximum Value in the array  \n",
    "\n",
    "print(\"Sqrt: \", np.sqrt(var))                        # Square root of each element"
   ]
  },
  {
   "cell_type": "markdown",
   "metadata": {},
   "source": [
    "axis 0 for colum\n",
    "axis 1 for row in  a matrix. \n",
    "\n",
    "I have the following code:"
   ]
  },
  {
   "cell_type": "code",
   "execution_count": 11,
   "metadata": {},
   "outputs": [
    {
     "name": "stdout",
     "output_type": "stream",
     "text": [
      "Maximum Value is:  [3 9]\n",
      "Minimum value is:  [1 5]\n",
      "\n",
      "Maximum Value is:  [9 5 6]\n",
      "Minimum value is:  [2 3 1]\n"
     ]
    }
   ],
   "source": [
    "var1 = np.array([[2,3,1],[9,5,6]])\n",
    "print(\"Maximum Value is: \",np.max(var1,axis=1)) # Maximum value row wise\n",
    "print(\"Minimum value is: \",np.min(var1,axis=1)) # Minimum value row wise\n",
    "print()\n",
    "print(\"Maximum Value is: \",np.max(var1,axis=0)) # Maximum value col wise\n",
    "print(\"Minimum value is: \",np.min(var1,axis=0)) # Minimum value col wise"
   ]
  },
  {
   "cell_type": "code",
   "execution_count": 14,
   "metadata": {},
   "outputs": [
    {
     "name": "stdout",
     "output_type": "stream",
     "text": [
      "[0.84147098 0.90929743 0.14112001]\n",
      "[ 0.54030231 -0.41614684 -0.9899925 ]\n"
     ]
    }
   ],
   "source": [
    "var2 = np.array([1,2,3])\n",
    "print(np.sin(var2)) #sine value of array\n",
    "print(np.cos(var2)) #cosine value of array"
   ]
  },
  {
   "cell_type": "markdown",
   "metadata": {},
   "source": [
    "# Cumulitive sum\n",
    "1 2 3 4 \n",
    "cumsum will be\n",
    "1 3 6 10 "
   ]
  },
  {
   "cell_type": "code",
   "execution_count": 15,
   "metadata": {},
   "outputs": [
    {
     "name": "stdout",
     "output_type": "stream",
     "text": [
      "[ 1  3  6 10]\n"
     ]
    }
   ],
   "source": [
    "var2 = np.array([1,2,3,4])\n",
    "print(np.cumsum(var2))"
   ]
  }
 ],
 "metadata": {
  "kernelspec": {
   "display_name": "Python 3",
   "language": "python",
   "name": "python3"
  },
  "language_info": {
   "codemirror_mode": {
    "name": "ipython",
    "version": 3
   },
   "file_extension": ".py",
   "mimetype": "text/x-python",
   "name": "python",
   "nbconvert_exporter": "python",
   "pygments_lexer": "ipython3",
   "version": "3.12.0"
  }
 },
 "nbformat": 4,
 "nbformat_minor": 2
}
