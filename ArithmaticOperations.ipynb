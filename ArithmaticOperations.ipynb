{
 "cells": [
  {
   "cell_type": "code",
   "execution_count": 1,
   "metadata": {},
   "outputs": [],
   "source": [
    "import numpy as np"
   ]
  },
  {
   "cell_type": "markdown",
   "metadata": {},
   "source": [
    "# Arithmatic Operations\n"
   ]
  },
  {
   "cell_type": "code",
   "execution_count": 2,
   "metadata": {},
   "outputs": [
    {
     "name": "stdout",
     "output_type": "stream",
     "text": [
      "[4 5 6 7 8]\n"
     ]
    }
   ],
   "source": [
    "var = np.array([1,2,3,4,5])\n",
    "var_add = var + 3\n",
    "print(var_add)"
   ]
  },
  {
   "cell_type": "code",
   "execution_count": 9,
   "metadata": {},
   "outputs": [
    {
     "name": "stdout",
     "output_type": "stream",
     "text": [
      "[4 5 6 7 8]\n"
     ]
    }
   ],
   "source": [
    "var = np.array([1,2,3,4,5])\n",
    "\n",
    "var_add1 = np.add(var,3)\n",
    "print(var_add1)"
   ]
  },
  {
   "cell_type": "code",
   "execution_count": 3,
   "metadata": {},
   "outputs": [
    {
     "name": "stdout",
     "output_type": "stream",
     "text": [
      "[ 3  5  7  9 11]\n"
     ]
    }
   ],
   "source": [
    "var1 = np.array([1,2,3,4,5])\n",
    "var2 = np.array([2,3,4,5,6])\n",
    "var_add1 = var1 + var2\n",
    "print(var_add1)"
   ]
  },
  {
   "cell_type": "code",
   "execution_count": 8,
   "metadata": {},
   "outputs": [
    {
     "name": "stdout",
     "output_type": "stream",
     "text": [
      "[ 3  5  7  9 11]\n"
     ]
    }
   ],
   "source": [
    "var1 = np.array([1,2,3,4,5])\n",
    "var2 = np.array([2,3,4,5,6])\n",
    "var_add1 = np.add(var1,var2)\n",
    "print(var_add1)"
   ]
  },
  {
   "cell_type": "code",
   "execution_count": 4,
   "metadata": {},
   "outputs": [
    {
     "name": "stdout",
     "output_type": "stream",
     "text": [
      "[1 1 1 1 1]\n"
     ]
    }
   ],
   "source": [
    "var1 = np.array([1,2,3,4,5])\n",
    "var2 = np.array([2,3,4,5,6])\n",
    "var_sub1 = var2 - var1\n",
    "print(var_sub1)"
   ]
  },
  {
   "cell_type": "code",
   "execution_count": 5,
   "metadata": {},
   "outputs": [
    {
     "name": "stdout",
     "output_type": "stream",
     "text": [
      "[ 2  6 12 20 30]\n"
     ]
    }
   ],
   "source": [
    "var1 = np.array([1,2,3,4,5])\n",
    "var2 = np.array([2,3,4,5,6])\n",
    "var_mul1 = var2 * var1\n",
    "print(var_mul1)"
   ]
  },
  {
   "cell_type": "code",
   "execution_count": 6,
   "metadata": {},
   "outputs": [
    {
     "name": "stdout",
     "output_type": "stream",
     "text": [
      "[2.         1.5        1.33333333 1.25       1.2       ]\n"
     ]
    }
   ],
   "source": [
    "var1 = np.array([1,2,3,4,5])\n",
    "var2 = np.array([2,3,4,5,6])\n",
    "var_div1 = var2 / var1\n",
    "print(var_div1)"
   ]
  },
  {
   "cell_type": "code",
   "execution_count": 7,
   "metadata": {},
   "outputs": [
    {
     "name": "stdout",
     "output_type": "stream",
     "text": [
      "[0 1 1 1 1]\n"
     ]
    }
   ],
   "source": [
    "var1 = np.array([1,2,3,4,5])\n",
    "var2 = np.array([2,3,4,5,6])\n",
    "var_mod1 = var2 % var1\n",
    "print(var_mod1)"
   ]
  },
  {
   "cell_type": "code",
   "execution_count": 10,
   "metadata": {},
   "outputs": [
    {
     "name": "stdout",
     "output_type": "stream",
     "text": [
      "[    1     8    81  1024 15625]\n"
     ]
    }
   ],
   "source": [
    "var1 = np.array([1,2,3,4,5])\n",
    "var2 = np.array([2,3,4,5,6])\n",
    "var_pow1 = var1 ** var2\n",
    "print(var_pow1)"
   ]
  },
  {
   "cell_type": "code",
   "execution_count": 11,
   "metadata": {},
   "outputs": [
    {
     "name": "stdout",
     "output_type": "stream",
     "text": [
      "[    1     8    81  1024 15625]\n"
     ]
    }
   ],
   "source": [
    "var1 = np.array([1,2,3,4,5])\n",
    "var2 = np.array([2,3,4,5,6])\n",
    "var_pow1 = np.power(var1,var2)\n",
    "print(var_pow1)"
   ]
  },
  {
   "cell_type": "code",
   "execution_count": 14,
   "metadata": {},
   "outputs": [
    {
     "name": "stdout",
     "output_type": "stream",
     "text": [
      "[1.         0.5        0.33333333 0.25       0.2       ]\n"
     ]
    }
   ],
   "source": [
    "var1 = np.array([1,2,3,4,5])\n",
    "var_reciprocal1 = 1/var1\n",
    "print(var_reciprocal1)"
   ]
  },
  {
   "cell_type": "code",
   "execution_count": 15,
   "metadata": {},
   "outputs": [
    {
     "name": "stdout",
     "output_type": "stream",
     "text": [
      "[1.         0.5        0.33333334 0.25       0.2       ]\n"
     ]
    }
   ],
   "source": [
    "var1 = np.array([1,2,3,4,5])\n",
    "var_reciprocal1 = np.reciprocal(np.float32(var1))\n",
    "print(var_reciprocal1)"
   ]
  },
  {
   "cell_type": "markdown",
   "metadata": {},
   "source": [
    "# 2D Array"
   ]
  },
  {
   "cell_type": "code",
   "execution_count": 16,
   "metadata": {},
   "outputs": [
    {
     "name": "stdout",
     "output_type": "stream",
     "text": [
      "[[2 4 6]\n",
      " [2 4 6]]\n"
     ]
    }
   ],
   "source": [
    "var21= np.array([[1,2,3],[1,2,3]])\n",
    "var22= np.array([[1,2,3],[1,2,3]])\n",
    "var_add = var21 +var22\n",
    "print(var_add)"
   ]
  }
 ],
 "metadata": {
  "kernelspec": {
   "display_name": "Python 3",
   "language": "python",
   "name": "python3"
  },
  "language_info": {
   "codemirror_mode": {
    "name": "ipython",
    "version": 3
   },
   "file_extension": ".py",
   "mimetype": "text/x-python",
   "name": "python",
   "nbconvert_exporter": "python",
   "pygments_lexer": "ipython3",
   "version": "3.12.0"
  }
 },
 "nbformat": 4,
 "nbformat_minor": 2
}
