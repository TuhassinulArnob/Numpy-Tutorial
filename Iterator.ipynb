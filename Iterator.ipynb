{
 "cells": [
  {
   "cell_type": "markdown",
   "metadata": {},
   "source": [
    "# Iterator"
   ]
  },
  {
   "cell_type": "code",
   "execution_count": 2,
   "metadata": {},
   "outputs": [
    {
     "name": "stdout",
     "output_type": "stream",
     "text": [
      "4\n",
      "5\n",
      "6\n",
      "7\n",
      "8\n"
     ]
    }
   ],
   "source": [
    "import numpy as np\n",
    "x= np.array([4,5,6,7,8])\n",
    "for i in x:\n",
    "    print(i)"
   ]
  },
  {
   "cell_type": "code",
   "execution_count": 5,
   "metadata": {},
   "outputs": [
    {
     "name": "stdout",
     "output_type": "stream",
     "text": [
      "[[1 2 3 4]\n",
      " [1 2 3 4]]\n",
      "\n",
      "[1 2 3 4]\n",
      "[1 2 3 4]\n",
      "\n",
      "1\n",
      "2\n",
      "3\n",
      "4\n",
      "1\n",
      "2\n",
      "3\n",
      "4\n"
     ]
    }
   ],
   "source": [
    "var1= np.array([[1,2,3,4],[1,2,3,4]])\n",
    "print(var1)\n",
    "print()\n",
    "\n",
    "for j in var1:\n",
    "    print(j)\n",
    "\n",
    "print()\n",
    "\n",
    "for k in var1:\n",
    "    for l in k:\n",
    "        print(l)"
   ]
  },
  {
   "cell_type": "code",
   "execution_count": 11,
   "metadata": {},
   "outputs": [
    {
     "name": "stdout",
     "output_type": "stream",
     "text": [
      "[[[1 2 3 4]\n",
      "  [5 6 7 7]\n",
      "  [8 9 0 1]]]\n",
      "\n",
      "[[1 2 3 4]\n",
      " [5 6 7 7]\n",
      " [8 9 0 1]]\n",
      "\n",
      "1\n",
      "2\n",
      "3\n",
      "4\n",
      "5\n",
      "6\n",
      "7\n",
      "7\n",
      "8\n",
      "9\n",
      "0\n",
      "1\n"
     ]
    }
   ],
   "source": [
    "var3 = np.array([[[1,2,3,4],[5,6,7,7],[8,9,0,1]]])\n",
    "print(var3)\n",
    "print()\n",
    "\n",
    "for i in var3:\n",
    "    print(i)\n",
    "print()\n",
    "\n",
    "for j in var3:\n",
    "    for k in j:\n",
    "        for i in k:\n",
    "            print(i)"
   ]
  },
  {
   "cell_type": "code",
   "execution_count": 14,
   "metadata": {},
   "outputs": [
    {
     "name": "stdout",
     "output_type": "stream",
     "text": [
      "[[[1 2 3 4]\n",
      "  [5 6 7 7]\n",
      "  [8 9 0 1]]]\n",
      "\n",
      "b'1'\n",
      "b'2'\n",
      "b'3'\n",
      "b'4'\n",
      "b'5'\n",
      "b'6'\n",
      "b'7'\n",
      "b'7'\n",
      "b'8'\n",
      "b'9'\n",
      "b'0'\n",
      "b'1'\n"
     ]
    }
   ],
   "source": [
    "\n",
    "\n",
    "var3 = np.array([[[1,2,3,4],[5,6,7,7],[8,9,0,1]]])\n",
    "print(var3)\n",
    "print()\n",
    "\n",
    "for i in np.nditer(var3,flags=['buffered'],op_dtypes=['S']):\n",
    "    print(i)"
   ]
  },
  {
   "cell_type": "code",
   "execution_count": 15,
   "metadata": {},
   "outputs": [
    {
     "name": "stdout",
     "output_type": "stream",
     "text": [
      "[[[1 2 3 4]\n",
      "  [5 6 7 7]\n",
      "  [8 9 0 1]]]\n",
      "\n",
      "(0, 0, 0) 1\n",
      "(0, 0, 1) 2\n",
      "(0, 0, 2) 3\n",
      "(0, 0, 3) 4\n",
      "(0, 1, 0) 5\n",
      "(0, 1, 1) 6\n",
      "(0, 1, 2) 7\n",
      "(0, 1, 3) 7\n",
      "(0, 2, 0) 8\n",
      "(0, 2, 1) 9\n",
      "(0, 2, 2) 0\n",
      "(0, 2, 3) 1\n"
     ]
    }
   ],
   "source": [
    "\n",
    "var3 = np.array([[[1,2,3,4],[5,6,7,7],[8,9,0,1]]])\n",
    "print(var3)\n",
    "print()\n",
    "\n",
    "for i,d in np.ndenumerate(var3):\n",
    "    print(i,d)"
   ]
  }
 ],
 "metadata": {
  "kernelspec": {
   "display_name": "Python 3",
   "language": "python",
   "name": "python3"
  },
  "language_info": {
   "codemirror_mode": {
    "name": "ipython",
    "version": 3
   },
   "file_extension": ".py",
   "mimetype": "text/x-python",
   "name": "python",
   "nbconvert_exporter": "python",
   "pygments_lexer": "ipython3",
   "version": "3.12.2"
  }
 },
 "nbformat": 4,
 "nbformat_minor": 2
}
