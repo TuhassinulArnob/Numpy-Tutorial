{
 "cells": [
  {
   "cell_type": "markdown",
   "metadata": {},
   "source": [
    "# Insert"
   ]
  },
  {
   "cell_type": "code",
   "execution_count": 5,
   "metadata": {},
   "outputs": [
    {
     "name": "stdout",
     "output_type": "stream",
     "text": [
      "[1 2 3 4]\n",
      "[9 1 2 3 9 4]\n"
     ]
    }
   ],
   "source": [
    "import numpy as np\n",
    "var = np.array([1, 2, 3,4])\n",
    "print(var)\n",
    "\n",
    "v= np.insert(var,(0,3),9) # Insert at index 0 and 3 the value 9\n",
    "print(v)"
   ]
  },
  {
   "cell_type": "code",
   "execution_count": 12,
   "metadata": {},
   "outputs": [
    {
     "name": "stdout",
     "output_type": "stream",
     "text": [
      "Array after inserting a row:\n",
      "[[1 2 3]\n",
      " [1 2 3]\n",
      " [6 4 4]]\n"
     ]
    }
   ],
   "source": [
    "var2= np.array([[1,2,3],[1,2,3]])\n",
    "v2= np.insert(var2,2,[6,4,4],axis=0) #Insert a row at the beginning of array  \n",
    "print(\"Array after inserting a row:\") \n",
    "print(v2)"
   ]
  },
  {
   "cell_type": "markdown",
   "metadata": {},
   "source": [
    "# Append"
   ]
  },
  {
   "cell_type": "code",
   "execution_count": 26,
   "metadata": {},
   "outputs": [
    {
     "name": "stdout",
     "output_type": "stream",
     "text": [
      "[1 2 3 1 2 3 0]\n",
      "[[1 2 3 0]\n",
      " [1 2 4 0]]\n"
     ]
    }
   ],
   "source": [
    "x= np.append(var2,0) # can insert float\n",
    "print(x)\n",
    "v1= np.array([[1,2,3],[1,2,4]])\n",
    "y = np.append(v1,[[0],[0]],axis=1)\n",
    "print(y)"
   ]
  },
  {
   "cell_type": "markdown",
   "metadata": {},
   "source": [
    "# Delete"
   ]
  },
  {
   "cell_type": "code",
   "execution_count": 28,
   "metadata": {},
   "outputs": [
    {
     "name": "stdout",
     "output_type": "stream",
     "text": [
      "[1 2 3 4]\n",
      "[1 3 4]\n"
     ]
    }
   ],
   "source": [
    "var1 = np.array([1,2,3,4])\n",
    "print(var1)\n",
    "d=np.delete(var1,1)\n",
    "print(d)"
   ]
  },
  {
   "cell_type": "code",
   "execution_count": null,
   "metadata": {},
   "outputs": [],
   "source": []
  }
 ],
 "metadata": {
  "kernelspec": {
   "display_name": "Python 3",
   "language": "python",
   "name": "python3"
  },
  "language_info": {
   "codemirror_mode": {
    "name": "ipython",
    "version": 3
   },
   "file_extension": ".py",
   "mimetype": "text/x-python",
   "name": "python",
   "nbconvert_exporter": "python",
   "pygments_lexer": "ipython3",
   "version": "3.12.2"
  }
 },
 "nbformat": 4,
 "nbformat_minor": 2
}
