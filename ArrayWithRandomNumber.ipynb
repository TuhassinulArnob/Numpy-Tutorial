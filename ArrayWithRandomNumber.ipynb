{
 "cells": [
  {
   "cell_type": "code",
   "execution_count": 1,
   "metadata": {},
   "outputs": [],
   "source": [
    "import numpy as np"
   ]
  },
  {
   "cell_type": "markdown",
   "metadata": {},
   "source": [
    "# rand()\n",
    "the function used to generate random value between 0 to 1"
   ]
  },
  {
   "cell_type": "code",
   "execution_count": 7,
   "metadata": {},
   "outputs": [
    {
     "name": "stdout",
     "output_type": "stream",
     "text": [
      "[0.23586571 0.12362682 0.42560679 0.37472884]\n"
     ]
    }
   ],
   "source": [
    "var = np.random.rand(4)\n",
    "print(var)"
   ]
  },
  {
   "cell_type": "code",
   "execution_count": 8,
   "metadata": {},
   "outputs": [
    {
     "name": "stdout",
     "output_type": "stream",
     "text": [
      "[[0.08952156 0.14049986 0.75631282 0.58740192 0.02700131]\n",
      " [0.99585341 0.29126662 0.54747402 0.32889895 0.79446882]]\n"
     ]
    }
   ],
   "source": [
    "var1 = np.random.rand(2,5)\n",
    "print(var1)"
   ]
  },
  {
   "cell_type": "markdown",
   "metadata": {},
   "source": [
    "# randn()\n",
    "close to 0 . either negative or positive"
   ]
  },
  {
   "cell_type": "code",
   "execution_count": 9,
   "metadata": {},
   "outputs": [
    {
     "name": "stdout",
     "output_type": "stream",
     "text": [
      "[-1.58261302 -1.3866063  -0.37520901  0.4830706  -0.56096788]\n"
     ]
    }
   ],
   "source": [
    "var2= np.random.randn(5)\n",
    "print(var2)"
   ]
  },
  {
   "cell_type": "markdown",
   "metadata": {},
   "source": [
    "# randf()\n",
    "generate random sampling in numpy. It returns an array of specified shape and fills it with random floar in the half open interval [0.0,1.0)"
   ]
  },
  {
   "cell_type": "code",
   "execution_count": 10,
   "metadata": {},
   "outputs": [
    {
     "name": "stdout",
     "output_type": "stream",
     "text": [
      "[0.48471344 0.35429754 0.93900297 0.51067007]\n"
     ]
    }
   ],
   "source": [
    "var3 = np.random.ranf(4)\n",
    "print(var3)"
   ]
  },
  {
   "cell_type": "markdown",
   "metadata": {},
   "source": [
    "# randint()\n",
    "used to generate random number in a given range\n"
   ]
  },
  {
   "cell_type": "code",
   "execution_count": 14,
   "metadata": {},
   "outputs": [
    {
     "name": "stdout",
     "output_type": "stream",
     "text": [
      "8\n",
      "[19 11 17 17]\n"
     ]
    }
   ],
   "source": [
    "var4 = np.random.randint(0,10)\n",
    "print(var4) # only one value....\n",
    "\n",
    "var5= np.random.randint(5,20,4) # generate 4 elements\n",
    "print(var5)"
   ]
  }
 ],
 "metadata": {
  "kernelspec": {
   "display_name": "Python 3",
   "language": "python",
   "name": "python3"
  },
  "language_info": {
   "codemirror_mode": {
    "name": "ipython",
    "version": 3
   },
   "file_extension": ".py",
   "mimetype": "text/x-python",
   "name": "python",
   "nbconvert_exporter": "python",
   "pygments_lexer": "ipython3",
   "version": "3.12.0"
  }
 },
 "nbformat": 4,
 "nbformat_minor": 2
}
